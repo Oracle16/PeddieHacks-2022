{
 "cells": [
  {
   "cell_type": "code",
   "execution_count": 45,
   "id": "16a44fb2",
   "metadata": {},
   "outputs": [],
   "source": [
    "import pytesseract\n",
    "import cv2\n"
   ]
  },
  {
   "cell_type": "code",
   "execution_count": 48,
   "id": "c843d011",
   "metadata": {},
   "outputs": [
    {
     "name": "stdout",
     "output_type": "stream",
     "text": [
      "6 + 2(1+2)\n",
      "\n",
      "Integer + PEMDAS\n"
     ]
    }
   ],
   "source": [
    "from PIL import Image\n",
    "  \n",
    "img = Image.open(\"math-problem(1).JPG\") \n",
    "\n",
    "pytesseract.pytesseract.tesseract_cmd= r\"C:\\Users\\anish\\AppData\\Local\\Tesseract-OCR\\tesseract\"\n",
    "Math_Problem = pytesseract.image_to_string(img)\n",
    "print(Math_Problem)\n",
    "Problem_Type = \"Integer + \"\n",
    "Problem_Operator = None\n",
    "Operator_Count = 0\n",
    "\n",
    "for i in Math_Problem:\n",
    "    if i == \".\":\n",
    "        Problem_Type = \"Decimal + \"\n",
    "    if i == \"+\":\n",
    "        Problem_Operator = \"Addition\"\n",
    "        Operator_Count+=1\n",
    "    elif i == \"-\":\n",
    "        Problem_Operator = \"Subtraction\"\n",
    "        Operator_Count+=1\n",
    "    elif i == \"*\" or i == \"x\":\n",
    "        Problem_Operator = \"Multiplication\"\n",
    "        Operator_Count+=1\n",
    "    elif i == \"/\":\n",
    "        Problem_Operator = \"Division\"\n",
    "        Operator_Count+=1\n",
    "    elif i == \"(\" or i == \")\" or Operator_Count>=2:\n",
    "        Problem_Operator = \"PEMDAS\"\n",
    "    \n",
    "if Problem_Operator != None:\n",
    "    Problem_Type = Problem_Type+Problem_Operator\n",
    "    print(Problem_Type)"
   ]
  },
  {
   "cell_type": "code",
   "execution_count": 31,
   "id": "572950e3",
   "metadata": {},
   "outputs": [
    {
     "name": "stdout",
     "output_type": "stream",
     "text": [
      "\n"
     ]
    }
   ],
   "source": []
  },
  {
   "cell_type": "code",
   "execution_count": null,
   "id": "05dce590",
   "metadata": {},
   "outputs": [],
   "source": []
  },
  {
   "cell_type": "code",
   "execution_count": null,
   "id": "263a5120",
   "metadata": {},
   "outputs": [],
   "source": []
  }
 ],
 "metadata": {
  "kernelspec": {
   "display_name": "Python 3 (ipykernel)",
   "language": "python",
   "name": "python3"
  },
  "language_info": {
   "codemirror_mode": {
    "name": "ipython",
    "version": 3
   },
   "file_extension": ".py",
   "mimetype": "text/x-python",
   "name": "python",
   "nbconvert_exporter": "python",
   "pygments_lexer": "ipython3",
   "version": "3.9.12"
  }
 },
 "nbformat": 4,
 "nbformat_minor": 5
}
